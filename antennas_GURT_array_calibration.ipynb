{
 "cells": [
  {
   "cell_type": "code",
   "execution_count": null,
   "metadata": {},
   "outputs": [],
   "source": [
    "## GURT parameters\n",
    "file = open('DATA/GURT_parameters/AmaxGOST(f)_f=8,80,1.txt', 'r')\n",
    "for line in file:                        # Loop by all lines in file\n",
    "    words_in_line = line.split()\n",
    "    # Aeff0.append(float(words_in_line[1]))\n",
    "    # AeffMax.append(float(words_in_line[2]))\n",
    "    # Efficiency.append(float(words_in_line[3]))"
   ]
  }
 ],
 "metadata": {
  "language_info": {
   "name": "python"
  }
 },
 "nbformat": 4,
 "nbformat_minor": 2
}
