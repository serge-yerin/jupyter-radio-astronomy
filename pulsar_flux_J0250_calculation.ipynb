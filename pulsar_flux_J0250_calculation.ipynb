{
 "cells": [
  {
   "cell_type": "markdown",
   "metadata": {},
   "source": [
    "# Example"
   ]
  },
  {
   "cell_type": "markdown",
   "metadata": {},
   "source": [
    "#### Example"
   ]
  },
  {
   "cell_type": "code",
   "execution_count": 1,
   "metadata": {},
   "outputs": [],
   "source": [
    "import matplotlib.pyplot as plt\n",
    "import numpy as np"
   ]
  },
  {
   "cell_type": "code",
   "execution_count": 2,
   "metadata": {},
   "outputs": [],
   "source": [
    "kB = 1.38064852 * pow(10, -23)             # Boltzmann constant, J / K\n",
    "AeMAX_UTR2 = 130000                        # Effective area of radio telescope for zenith direction\n",
    "PulsarName = 'J0250+5854'                  # Pulsar name\n",
    "Cosinus = 0.87                             # Cos of zenith angle for the pulsar\n",
    "Period  = 23.573                           # Pulsar period, s\n",
    "dt = 9 * 60 * 60                           # Integration time, s (hours * 60 mins * 60 secs)\n",
    "t_resol = 100 * pow(10, -3)                # Temporal resolution of observations, s\n",
    "SNR = 4                                    # Observed SNR\n",
    "T_bg = 41000                               # Background noise temperature, K\n",
    "df = 16.5 * pow(10, 6)                     # Frequency range of integration, Hz \n",
    "l_UTR2 = 2                                 # Polarization coefficient\n",
    "TauToPeriod = 0.03                         # Ratio of pulse duration to pulsar period\n"
   ]
  },
  {
   "cell_type": "code",
   "execution_count": 3,
   "metadata": {},
   "outputs": [],
   "source": [
    "# Pulsar J0250+5854 calculations\n",
    "S = (SNR * TauToPeriod * l_UTR2 * kB * T_bg) / (AeMAX_UTR2 * Cosinus * np.sqrt(dt * df * t_resol / Period))"
   ]
  },
  {
   "cell_type": "code",
   "execution_count": 4,
   "metadata": {},
   "outputs": [],
   "source": [
    "Smin = l_UTR2 * kB * T_bg / (AeMAX_UTR2 * Cosinus* np.sqrt(dt * df))"
   ]
  },
  {
   "cell_type": "code",
   "execution_count": 6,
   "metadata": {},
   "outputs": [
    {
     "name": "stdout",
     "output_type": "stream",
     "text": [
      "\n",
      "\n",
      "  Flux of pulsar  J0250+5854  =                               2.522368743328938  mJy\n",
      "  Estimate of radio telescope sensitivity for observations =  1.369051867305938  mJy \n",
      "\n",
      "\n"
     ]
    }
   ],
   "source": [
    "print('\\n\\n  Flux of pulsar ', PulsarName, ' =                              ', S * pow(10, 29), ' mJy')\n",
    "print('  Estimate of radio telescope sensitivity for observations = ', Smin * pow(10, 29), ' mJy \\n\\n')"
   ]
  },
  {
   "cell_type": "code",
   "execution_count": null,
   "metadata": {},
   "outputs": [],
   "source": []
  }
 ],
 "metadata": {
  "kernelspec": {
   "display_name": "Python 3",
   "language": "python",
   "name": "python3"
  },
  "language_info": {
   "codemirror_mode": {
    "name": "ipython",
    "version": 3
   },
   "file_extension": ".py",
   "mimetype": "text/x-python",
   "name": "python",
   "nbconvert_exporter": "python",
   "pygments_lexer": "ipython3",
   "version": "3.7.2"
  }
 },
 "nbformat": 4,
 "nbformat_minor": 2
}
