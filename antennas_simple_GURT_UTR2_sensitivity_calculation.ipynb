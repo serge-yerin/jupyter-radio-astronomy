{
 "cells": [
  {
   "cell_type": "code",
   "execution_count": 3,
   "metadata": {},
   "outputs": [],
   "source": [
    "import numpy as np"
   ]
  },
  {
   "cell_type": "code",
   "execution_count": 4,
   "metadata": {},
   "outputs": [],
   "source": [
    "# For UTR-2 single section\n",
    "S = 3 * pow(10,-26)\n",
    "Ae = 12000\n",
    "dt = 15 * pow(10,3)\n",
    "df = 16 * pow(10,6)\n",
    "TauToP = 0.1\n",
    "l = 2\n",
    "kB = 1.38064852 * pow(10,-23) \n",
    "Tbg = 20000"
   ]
  },
  {
   "cell_type": "code",
   "execution_count": 6,
   "metadata": {
    "collapsed": true
   },
   "outputs": [
    {
     "name": "stdout",
     "output_type": "stream",
     "text": [
      "(' SNR = ', 100.9868901778615)\n"
     ]
    }
   ],
   "source": [
    "SNR = S * Ae * np.sqrt(dt * df * TauToP) / (l * kB * Tbg)\n",
    "print (' SNR = ', SNR)"
   ]
  },
  {
   "cell_type": "code",
   "execution_count": 21,
   "metadata": {},
   "outputs": [],
   "source": [
    "# For GURT subarray\n",
    "S = 6 * pow(10,-26)\n",
    "Ae = 350\n",
    "dt = 15 * pow(10,3)\n",
    "df = 40 * pow(10,6)\n",
    "TauToP = 0.1\n",
    "l = 1\n",
    "kB = 1.38064852 * pow(10,-23) \n",
    "Tbg = 5000"
   ]
  },
  {
   "cell_type": "code",
   "execution_count": 22,
   "metadata": {},
   "outputs": [
    {
     "name": "stdout",
     "output_type": "stream",
     "text": [
      "(' SNR = ', 74.51467024851009)\n"
     ]
    }
   ],
   "source": [
    "SNR = S * Ae * np.sqrt(dt * df * TauToP) / (l * kB * Tbg)\n",
    "print (' SNR = ', SNR)"
   ]
  },
  {
   "cell_type": "code",
   "execution_count": null,
   "metadata": {},
   "outputs": [],
   "source": []
  },
  {
   "cell_type": "code",
   "execution_count": null,
   "metadata": {},
   "outputs": [],
   "source": []
  },
  {
   "cell_type": "code",
   "execution_count": null,
   "metadata": {},
   "outputs": [],
   "source": []
  },
  {
   "cell_type": "code",
   "execution_count": null,
   "metadata": {},
   "outputs": [],
   "source": []
  }
 ],
 "metadata": {
  "kernelspec": {
   "display_name": "Python 3",
   "language": "python",
   "name": "python3"
  },
  "language_info": {
   "codemirror_mode": {
    "name": "ipython",
    "version": 3
   },
   "file_extension": ".py",
   "mimetype": "text/x-python",
   "name": "python",
   "nbconvert_exporter": "python",
   "pygments_lexer": "ipython3",
   "version": "3.7.2"
  }
 },
 "nbformat": 4,
 "nbformat_minor": 2
}
