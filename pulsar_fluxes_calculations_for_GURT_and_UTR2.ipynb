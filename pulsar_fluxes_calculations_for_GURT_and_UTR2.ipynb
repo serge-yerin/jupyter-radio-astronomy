{
 "cells": [
  {
   "cell_type": "code",
   "execution_count": 1,
   "metadata": {},
   "outputs": [],
   "source": [
    "import numpy as np"
   ]
  },
  {
   "cell_type": "code",
   "execution_count": 2,
   "metadata": {},
   "outputs": [],
   "source": [
    "kB = 1.38064852 * pow(10,-23)                           # Boltzmann constant\n",
    "PulsarNames = ['В1133+16', 'В1508+55', 'В1919+21']      # Pulsar names\n",
    "Cosinus = np.array([0.875, 0.985, 0.914])               # cos of zenith angle for each pulsar\n",
    "dt = 14400                                              # Integration time"
   ]
  },
  {
   "cell_type": "code",
   "execution_count": 3,
   "metadata": {},
   "outputs": [],
   "source": [
    "# For UTR-2 radio telescope\n",
    "SNR_UTR2 = np.array([150, 15, 210])\n",
    "TauToP_UTR2 = np.array([0.1, 0.22, 0.06])\n",
    "Tbg_UTR2 = np.array([24000, 22000, 42000])\n",
    "\n",
    "AeMAX_UTR2 = 130000 \n",
    "Ae_UTR2 = np.array(AeMAX_UTR2 * Cosinus)\n",
    "df_UTR2 = 16.5 * pow(10,6)\n",
    "l_UTR2 = 2"
   ]
  },
  {
   "cell_type": "code",
   "execution_count": 7,
   "metadata": {},
   "outputs": [
    {
     "name": "stdout",
     "output_type": "stream",
     "text": [
      "\n",
      "\n",
      " UTR-2 measured fluxes\n",
      "\n",
      " Pulsars:   В1133+16    В1508+55    В1919+21\n",
      " Flux (Jy)  0.56695     0.03113     1.7167 \n",
      "\n",
      "\n"
     ]
    }
   ],
   "source": [
    "S_UTR2 = np.array(3)\n",
    "S_UTR2 = SNR_UTR2 * l_UTR2 * kB * Tbg_UTR2 / (Ae_UTR2 * np.sqrt(dt * df_UTR2 * TauToP_UTR2))\n",
    "print ('\\n\\n UTR-2 measured fluxes')\n",
    "print ('\\n Pulsars:  ', PulsarNames[0], '  ', PulsarNames[1], '  ', PulsarNames[2])\n",
    "print (' Flux (Jy) ', round(S_UTR2[0]*pow(10,26), 5), '   ', round(S_UTR2[1]*pow(10,26), 5), '   ', round(S_UTR2[2]*pow(10,26), 5), '\\n\\n')"
   ]
  },
  {
   "cell_type": "code",
   "execution_count": 8,
   "metadata": {},
   "outputs": [],
   "source": [
    "# For GURT subarray\n",
    "SNR_GURT = np.array([14, 15, 40])\n",
    "TauToP_GURT = np.array([0.065, 0.16, 0.03])\n",
    "Tbg_GURT = np.array([8000, 8000, 12000])\n",
    "\n",
    "AeMAX_GURT = 320 \n",
    "Ae_GURT = np.array(AeMAX_GURT * Cosinus)\n",
    "df_GURT = 40 * pow(10,6)\n",
    "l_GURT = 1"
   ]
  },
  {
   "cell_type": "code",
   "execution_count": 9,
   "metadata": {},
   "outputs": [
    {
     "name": "stdout",
     "output_type": "stream",
     "text": [
      "\n",
      "\n",
      " GURT measured fluxes\n",
      "\n",
      " Pulsars:   В1133+16    В1508+55    В1919+21\n",
      " Flux (Jy)  2.85414     1.73144     17.23679 \n",
      "\n",
      "\n"
     ]
    }
   ],
   "source": [
    "S_GURT = np.array(3)\n",
    "S_GURT = SNR_GURT * l_GURT * kB * Tbg_GURT / (Ae_GURT * np.sqrt(dt * df_GURT * TauToP_GURT))\n",
    "print ('\\n\\n GURT measured fluxes')\n",
    "print ('\\n Pulsars:  ', PulsarNames[0], '  ', PulsarNames[1], '  ', PulsarNames[2])\n",
    "print (' Flux (Jy) ', round(S_GURT[0]*pow(10,26), 5), '   ', round(S_GURT[1]*pow(10,26), 5), '   ', round(S_GURT[2]*pow(10,26), 5), '\\n\\n')\n"
   ]
  },
  {
   "cell_type": "code",
   "execution_count": null,
   "metadata": {},
   "outputs": [],
   "source": []
  }
 ],
 "metadata": {
  "kernelspec": {
   "display_name": "Python 3",
   "language": "python",
   "name": "python3"
  },
  "language_info": {
   "codemirror_mode": {
    "name": "ipython",
    "version": 3
   },
   "file_extension": ".py",
   "mimetype": "text/x-python",
   "name": "python",
   "nbconvert_exporter": "python",
   "pygments_lexer": "ipython3",
   "version": "3.7.2"
  }
 },
 "nbformat": 4,
 "nbformat_minor": 2
}
