{
 "cells": [
  {
   "cell_type": "markdown",
   "metadata": {},
   "source": [
    "# Long-term pulsar observations with UTR-2 and GURT"
   ]
  },
  {
   "cell_type": "markdown",
   "metadata": {},
   "source": [
    "### Pulsars B0031-07, B1133+16, B1508+55, and B1919+21"
   ]
  },
  {
   "cell_type": "markdown",
   "metadata": {},
   "source": [
    "#### Import libraries"
   ]
  },
  {
   "cell_type": "code",
   "execution_count": 1,
   "metadata": {},
   "outputs": [],
   "source": [
    "import matplotlib.pyplot as plt\n",
    "import numpy as np\n",
    "import pandas as pd"
   ]
  },
  {
   "cell_type": "markdown",
   "metadata": {},
   "source": [
    "#### Reading measurement data from the xlsx file"
   ]
  },
  {
   "cell_type": "code",
   "execution_count": 2,
   "metadata": {},
   "outputs": [],
   "source": [
    "meas = pd.read_excel('DATA/Pulsars_fluxes.xlsx', sheet_name='Sheet1')\n",
    "\n",
    "#print(meas[['Date','SNR B1133+16 UTR2 full']])\n",
    "#print(meas)\n",
    "#print(meas['Date'][0])"
   ]
  },
  {
   "cell_type": "markdown",
   "metadata": {},
   "source": [
    "#### Constants"
   ]
  },
  {
   "cell_type": "code",
   "execution_count": 3,
   "metadata": {},
   "outputs": [],
   "source": [
    "kB = 1.38064852 * pow(10,-23)         # Boltzmann constant, J / K\n",
    "dt = 14400                            # Integration time, s\n",
    "t_resol = 9.8 * pow(10,-3)            # Temporal resolution, s\n",
    "AeMAX_UTR2 = 130000                   # Full UTR-2 effective area for zenith direction at 25 MHz, m2\n",
    "AeMAX_U01N = 14000                    # UTR-2 section 01 effective area for zenith direction at 25 MHz, m2\n",
    "AeMAX_U09W = 12000                    # UTR-2 section 09 effective area for zenith direction at 25 MHz, m2\n",
    "AeMAX_GURT = 230                      # GURT subarray effective area for zenith direction at 50 MHz, m2\n",
    "df_UTR2 = 16.5 * pow(10,6)            # Frequency range of UTR-2 observations, Hz\n",
    "df_GURT = 40 * pow(10,6)              # Frequency range of GURT observations, Hz\n",
    "l_UTR2 = 2                            # Polarization coefficient for UTR-2\n",
    "l_GURT = 1                            # Polarization coefficient for GURT"
   ]
  },
  {
   "cell_type": "markdown",
   "metadata": {},
   "source": [
    "#### Parameters of pulsars (names, rotation periods, projection of effective area, background brightnes temperatures for UTR-2 at 25 MHz and GURT at 50 MHz)"
   ]
  },
  {
   "cell_type": "code",
   "execution_count": 4,
   "metadata": {},
   "outputs": [
    {
     "name": "stdout",
     "output_type": "stream",
     "text": [
      "\n",
      " Parameters of pulsars: \n",
      "\n",
      "        Name  Period  Cosinus  Tbg_UTR2  Tbg_GURT  TauToP_UTR2  TauToP_GURT\n",
      "0  В0031-07   0.000    0.000         0         0         0.00        0.000\n",
      "1  В1133+16   1.188    0.875     24000      8000         0.10        0.065\n",
      "2  В1508+55   0.740    0.985     22000      8000         0.22        0.160\n",
      "3  В1919+21   1.337    0.914     42000     12000         0.06        0.030 \n",
      "\n",
      "\n"
     ]
    }
   ],
   "source": [
    "param = pd.DataFrame({\n",
    "    'Name': ['В0031-07', 'В1133+16', 'В1508+55', 'В1919+21'],\n",
    "    'Period': [0, 1.188, 0.740, 1.337],\n",
    "    'Cosinus': [0, 0.875, 0.985, 0.914],\n",
    "    'Tbg_UTR2': [0, 24000, 22000, 42000],\n",
    "    'Tbg_GURT': [0, 8000, 8000, 12000],\n",
    "    'TauToP_UTR2': [0, 0.1, 0.22, 0.06],\n",
    "    'TauToP_GURT': [0, 0.065, 0.16, 0.03]})\n",
    "\n",
    "print('\\n Parameters of pulsars: \\n\\n', param, '\\n\\n')"
   ]
  },
  {
   "cell_type": "markdown",
   "metadata": {},
   "source": [
    "#### Calculations of fluxes\n",
    "The full formula for pulsar flux calculations:\n",
    "$$\n",
    "\\Delta S = \\frac{SNR \\cdot l \\cdot k_B\\ \\cdot T_{\\text{sky}}}{A_{\\text{eff}}\\ \\sqrt{\\Delta t \\cdot \\Delta f \\cdot (\\tau / P)}} \n",
    "$$\n",
    "\n",
    "$SNR$ - signal-to-noise ratio obtained during observations \n",
    "<br>\n",
    "$l$ - polarization coefficient (2 for UTR-2 and 1 for GURT)\n",
    "<br>\n",
    "$k_B$ - Boltzmann constant\n",
    "<br>\n",
    "$T_{\\text{sky}}$ - sky background temperature, K\n",
    "<br>\n",
    "$A_{\\text{eff}}$ - radio telescope effective area to the pulsar direction. We obtain the area as a product of maximal effective area of the telescope and cosinus of the zenith angle: $A_{\\text{eff}} = A_{\\text{eff max}} \\cdot \\cos (z)$\n",
    "<br>\n",
    "$\\Delta t$ - integration time, s\n",
    "<br>\n",
    "$\\Delta f$ - integration frequency range, Hz\n",
    "<br>\n",
    "$\\tau$ - duration of pulsar pulse, s\n",
    "<br>\n",
    "$P$ - pulsar period, s\n",
    "<br>\n",
    "\n",
    "For calculations we use averaged singnal in the frequency ranges of the radio telescopes (16.5 - 33.0 MHz for UTR-2 and 30 - 70 MHz for GURT). The parameters  $T_{\\text{sky}}$ and $A_{\\text{eff max}}$ are taken for the central frequencies of the ranges, e.g. 24.5 MHz for UTR-2 and 50 MHz for GURT. In fact they are not linear, so this rough assumption affects the accuracy of the calculations."
   ]
  },
  {
   "cell_type": "code",
   "execution_count": 6,
   "metadata": {},
   "outputs": [],
   "source": [
    "pulsar_fluxes = pd.DataFrame({\n",
    "   \n",
    "  'Date': meas['Date'], \n",
    "  'B1133+16 flux UTR2 full': meas['SNR B1133+16 UTR2 full'] * param['TauToP_UTR2'][1] * l_UTR2 * kB * param['Tbg_UTR2'][1] / (AeMAX_UTR2 * param['Cosinus'][1] * np.sqrt(dt * df_UTR2 * t_resol / param['Period'][1]))\n",
    "})\n"
   ]
  },
  {
   "cell_type": "markdown",
   "metadata": {},
   "source": [
    "#### Making a plot"
   ]
  },
  {
   "cell_type": "code",
   "execution_count": 7,
   "metadata": {},
   "outputs": [
    {
     "data": {
      "text/plain": [
       "[-1, 27, 0.001, 10]"
      ]
     },
     "execution_count": 7,
     "metadata": {},
     "output_type": "execute_result"
    },
    {
     "data": {
      "image/png": "[encoded data removed]",
      "text/plain": [
       "<Figure size 1152x720 with 1 Axes>"
      ]
     },
     "metadata": {},
     "output_type": "display_data"
    }
   ],
   "source": [
    "plt.figure(facecolor = 'white', figsize = (16, 10))\n",
    "ax = plt.subplot(111)\n",
    "ax.set_yscale(\"log\", nonposy='clip')\n",
    "plt.errorbar(pulsar_fluxes['Date'], pulsar_fluxes['B1133+16 flux UTR2 full']*pow(10,26), yerr=pulsar_fluxes['B1133+16 flux UTR2 full']*pow(10,26)*0.5, label = 'B1133+16 УТР-2 весь телескоп', fmt='o', markersize=10, capsize=8, markeredgewidth = 2)\n",
    "for axis in ['top','bottom','left','right']:\n",
    "  ax.spines[axis].set_linewidth(3.0)\n",
    "ax.xaxis.set_tick_params(width=3, which='both', direction='in', length=10, labelsize = 20)\n",
    "ax.yaxis.set_tick_params(width=3, which='major', direction='in', length=10, labelsize = 20)\n",
    "ax.yaxis.set_tick_params(width=3, which='minor', direction='in', length=7, labelsize = 20)\n",
    "plt.xlabel('Дата, день/місяць', fontsize=25)\n",
    "plt.ylabel('Щільність потоку, Ян', fontsize=25)\n",
    "plt.xticks(rotation=45)\n",
    "plt.legend(loc = 'lower left', fontsize = 15)\n",
    "plt.axis([-1, len(pulsar_fluxes.index)+1, 0.001, 10])"
   ]
  },
  {
   "cell_type": "code",
   "execution_count": 4,
   "metadata": {},
   "outputs": [],
   "source": []
  },
  {
   "cell_type": "code",
   "execution_count": null,
   "metadata": {},
   "outputs": [],
   "source": []
  },
  {
   "cell_type": "code",
   "execution_count": 6,
   "metadata": {},
   "outputs": [],
   "source": []
  },
  {
   "cell_type": "code",
   "execution_count": 7,
   "metadata": {},
   "outputs": [],
   "source": []
  },
  {
   "cell_type": "code",
   "execution_count": 8,
   "metadata": {},
   "outputs": [],
   "source": []
  },
  {
   "cell_type": "code",
   "execution_count": 9,
   "metadata": {},
   "outputs": [],
   "source": []
  },
  {
   "cell_type": "code",
   "execution_count": null,
   "metadata": {},
   "outputs": [],
   "source": []
  },
  {
   "cell_type": "code",
   "execution_count": null,
   "metadata": {},
   "outputs": [],
   "source": []
  },
  {
   "cell_type": "code",
   "execution_count": null,
   "metadata": {},
   "outputs": [],
   "source": []
  },
  {
   "cell_type": "code",
   "execution_count": null,
   "metadata": {},
   "outputs": [],
   "source": []
  },
  {
   "cell_type": "code",
   "execution_count": 11,
   "metadata": {},
   "outputs": [],
   "source": []
  },
  {
   "cell_type": "code",
   "execution_count": null,
   "metadata": {},
   "outputs": [],
   "source": []
  },
  {
   "cell_type": "code",
   "execution_count": null,
   "metadata": {},
   "outputs": [],
   "source": []
  },
  {
   "cell_type": "code",
   "execution_count": null,
   "metadata": {},
   "outputs": [],
   "source": []
  },
  {
   "cell_type": "code",
   "execution_count": null,
   "metadata": {},
   "outputs": [],
   "source": []
  }
 ],
 "metadata": {
  "kernelspec": {
   "display_name": "Python 3",
   "language": "python",
   "name": "python3"
  },
  "language_info": {
   "codemirror_mode": {
    "name": "ipython",
    "version": 3
   },
   "file_extension": ".py",
   "mimetype": "text/x-python",
   "name": "python",
   "nbconvert_exporter": "python",
   "pygments_lexer": "ipython3",
   "version": "3.7.2"
  }
 },
 "nbformat": 4,
 "nbformat_minor": 2
}
